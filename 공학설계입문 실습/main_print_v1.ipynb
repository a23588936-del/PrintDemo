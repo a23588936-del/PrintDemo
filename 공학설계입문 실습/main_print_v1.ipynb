{
 "cells": [
  {
   "cell_type": "code",
   "execution_count": 1,
   "id": "ef112d10",
   "metadata": {},
   "outputs": [
    {
     "name": "stdout",
     "output_type": "stream",
     "text": [
      "Hello, Python!\n"
     ]
    }
   ],
   "source": [
    "name = \"Alice\"\n",
    "age = 25\n",
    "score = 95.5\n",
    "\n",
    "print(\"Hello, Python!\")\n"
   ]
  },
  {
   "cell_type": "code",
   "execution_count": 2,
   "id": "c10c08b8",
   "metadata": {},
   "outputs": [
    {
     "name": "stdout",
     "output_type": "stream",
     "text": [
      "Name: Alice Age: 25 Score: 95.5\n"
     ]
    }
   ],
   "source": [
    "\n",
    "print(\"Name:\",name,\"Age:\", age, \"Score:\",score)\n"
   ]
  },
  {
   "cell_type": "code",
   "execution_count": 6,
   "id": "c195d17f",
   "metadata": {},
   "outputs": [
    {
     "name": "stdout",
     "output_type": "stream",
     "text": [
      "My name is {name}, i am {age} years old, score: {score}\n",
      "My name is Alice, i am 25 years old, score: 95.5\n",
      "My name is Alice, i am 25 years old, score: 95.5\n",
      "score with 2 decimals: 95.50\n"
     ]
    }
   ],
   "source": [
    "\n",
    "print(\"My name is {name}, i am {age} years old, score: {score}\")\n",
    "\n",
    "print(\"My name is {}, i am {} years old, score: {}\". format(name, age, score))\n",
    "print(\"My name is {0}, i am {1} years old, score: {2}\". format(name, age, score))\n",
    "print(\"score with 2 decimals: {:.2f}\".format(score))\n"
   ]
  },
  {
   "cell_type": "code",
   "execution_count": 3,
   "id": "339c5db2",
   "metadata": {},
   "outputs": [
    {
     "name": "stdout",
     "output_type": "stream",
     "text": [
      "Name: Alice, Age: 25, Score: 95.5\n",
      "This is line 1&nThis is line 2\n",
      "Hello World!\n",
      "2025-09-23\n"
     ]
    }
   ],
   "source": [
    "\n",
    "print(\"Name: %s, Age: %d, Score: %.1f\" %(name, age, score))\n",
    "\n",
    "print(\"This is line 1&nThis is line 2\")\n",
    "\n",
    "print(\"Hello\", end=\" \")\n",
    "print(\"World!\")\n",
    "\n",
    "print(\"2025\",\"09\",\"23\",sep=\"-\")\n"
   ]
  },
  {
   "cell_type": "code",
   "execution_count": 5,
   "id": "ce3335e3",
   "metadata": {},
   "outputs": [
    {
     "name": "stdout",
     "output_type": "stream",
     "text": [
      "Date: {'name': 'Alice', 'age': 25, 'score': 95.5}\n",
      "Next year age: 26\n",
      "score (rounded): 96\n"
     ]
    }
   ],
   "source": [
    "\n",
    "data = {\"name\" : name, \"age\" : age, \"score\": score}\n",
    "print(\"Date:\" , data)\n",
    "\n",
    "print(f\"Next year age: {age + 1}\")\n",
    "print(f\"score (rounded): {round(score)}\")\n"
   ]
  },
  {
   "cell_type": "code",
   "execution_count": 4,
   "id": "c5016177",
   "metadata": {},
   "outputs": [
    {
     "name": "stdout",
     "output_type": "stream",
     "text": [
      "\n",
      "Student Info:\n",
      " - Name :Alice\n",
      " - Age : 25\n",
      " - Score:  95.50\n",
      " \n"
     ]
    }
   ],
   "source": [
    "\n",
    "print(f\"\"\"\n",
    "Student Info:\n",
    " - Name :{name}\n",
    " - Age : {age}\n",
    " - Score: {score: .2f}\n",
    " \"\"\")\n"
   ]
  }
 ],
 "metadata": {
  "kernelspec": {
   "display_name": "base",
   "language": "python",
   "name": "python3"
  },
  "language_info": {
   "codemirror_mode": {
    "name": "ipython",
    "version": 3
   },
   "file_extension": ".py",
   "mimetype": "text/x-python",
   "name": "python",
   "nbconvert_exporter": "python",
   "pygments_lexer": "ipython3",
   "version": "3.9.12"
  }
 },
 "nbformat": 4,
 "nbformat_minor": 5
}
